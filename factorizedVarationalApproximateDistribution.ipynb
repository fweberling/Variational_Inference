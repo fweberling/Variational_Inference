{
  "nbformat": 4,
  "nbformat_minor": 0,
  "metadata": {
    "colab": {
      "name": "factorizedVarationalApproximateDistribution.ipynb",
      "provenance": [],
      "authorship_tag": "ABX9TyPsREp3P/5ebdy7DeKoXcVH",
      "include_colab_link": true
    },
    "kernelspec": {
      "name": "python3",
      "display_name": "Python 3"
    }
  },
  "cells": [
    {
      "cell_type": "markdown",
      "metadata": {
        "id": "view-in-github",
        "colab_type": "text"
      },
      "source": [
        "<a href=\"https://colab.research.google.com/github/fweberling/Variational_Inference/blob/main/factorizedVarationalApproximateDistribution.ipynb\" target=\"_parent\"><img src=\"https://colab.research.google.com/assets/colab-badge.svg\" alt=\"Open In Colab\"/></a>"
      ]
    },
    {
      "cell_type": "code",
      "metadata": {
        "id": "dO5fHfSNcJ0v"
      },
      "source": [
        "import numpy as np\n",
        "import matplotlib\n",
        "import matplotlib.pyplot as plt\n",
        "from scipy.stats import multivariate_normal\n",
        "from scipy.stats import gamma\n",
        "from scipy.stats import norm\n",
        "from scipy.stats import gamma"
      ],
      "execution_count": 1,
      "outputs": []
    },
    {
      "cell_type": "markdown",
      "metadata": {
        "id": "qVYvtiyMe0cj"
      },
      "source": [
        "Likelihood function "
      ]
    },
    {
      "cell_type": "code",
      "metadata": {
        "id": "khLlhEKHdu-2"
      },
      "source": [
        ""
      ],
      "execution_count": null,
      "outputs": []
    },
    {
      "cell_type": "markdown",
      "metadata": {
        "id": "PlK3u1NhgY7e"
      },
      "source": [
        "Conjugate prior distributions\n",
        "\n",
        "Normal distribution"
      ]
    },
    {
      "cell_type": "code",
      "metadata": {
        "id": "B21drMJogW_y",
        "outputId": "0c2144a6-b29e-45f0-b000-dfbc1df2a8b1",
        "colab": {
          "base_uri": "https://localhost:8080/",
          "height": 283
        }
      },
      "source": [
        "fig, ax = plt.subplots(1, 1)\n",
        "\n",
        "mu_data = np.linspace(-4, 4, 100)\n",
        "\n",
        "# Parameters of conjugate prior distribution on mean\n",
        "mu_0 = 0\n",
        "lmbda_0 = 1\n",
        "tau = 1\n",
        "\n",
        "conjugate_prior_on_mean = norm.pdf(mu_data, loc = mu_0, scale = 1 / np.sqrt(lmbda_0 * tau))\n",
        "\n",
        "ax.plot(mu_data, conjugate_prior_on_mean ,'r-', lw=1, alpha=0.6, label='norm pdf')"
      ],
      "execution_count": 22,
      "outputs": [
        {
          "output_type": "execute_result",
          "data": {
            "text/plain": [
              "[<matplotlib.lines.Line2D at 0x7fb65be34d30>]"
            ]
          },
          "metadata": {
            "tags": []
          },
          "execution_count": 22
        },
        {
          "output_type": "display_data",
          "data": {
            "image/png": "[encoded data removed]",
            "text/plain": [
              "<Figure size 432x288 with 1 Axes>"
            ]
          },
          "metadata": {
            "tags": [],
            "needs_background": "light"
          }
        }
      ]
    },
    {
      "cell_type": "code",
      "metadata": {
        "id": "V9Y0-ZH5iYmS",
        "outputId": "65d5abe4-7200-43d7-f58b-416836512bfd",
        "colab": {
          "base_uri": "https://localhost:8080/",
          "height": 35
        }
      },
      "source": [
        "# Parameters of conjugate prior distribution on precision\n",
        "a_0 = 1.99 # shape parameter\n",
        "b_0 = 1 # rate parameter\n",
        "\n",
        "\n",
        "tau_data = np.linspace(0, 4, 100)\n",
        "\n",
        "conjugate_prior_on_precision = gamma.pdf(tau_data, a_0, scale = 1 / b_0)\n",
        "\n",
        "ax.plot(tau_data, conjugate_prior_on_precision ,'r-', lw=1, alpha=0.6, label='gamma pdf')\n"
      ],
      "execution_count": 25,
      "outputs": [
        {
          "output_type": "execute_result",
          "data": {
            "text/plain": [
              "[<matplotlib.lines.Line2D at 0x7fb65bc58ba8>]"
            ]
          },
          "metadata": {
            "tags": []
          },
          "execution_count": 25
        }
      ]
    },
    {
      "cell_type": "code",
      "metadata": {
        "id": "AoG-d1tLkl9S",
        "outputId": "b893b495-3681-456d-a7bd-4b5f1c106f82",
        "colab": {
          "base_uri": "https://localhost:8080/",
          "height": 451
        }
      },
      "source": [
        "x"
      ],
      "execution_count": 6,
      "outputs": [
        {
          "output_type": "execute_result",
          "data": {
            "text/plain": [
              "array([-2.32634787e+00, -2.25976971e+00, -2.19319154e+00, -2.12661337e+00,\n",
              "       -2.06003520e+00, -1.99345703e+00, -1.92687886e+00, -1.86030070e+00,\n",
              "       -1.79372253e+00, -1.72714436e+00, -1.66056619e+00, -1.59398802e+00,\n",
              "       -1.52740985e+00, -1.46083169e+00, -1.39425352e+00, -1.32767535e+00,\n",
              "       -1.26109718e+00, -1.19451901e+00, -1.12794084e+00, -1.06136268e+00,\n",
              "       -9.94784507e-01, -9.28206338e-01, -8.61628170e-01, -7.95050002e-01,\n",
              "       -7.28471833e-01, -6.61893665e-01, -5.95315497e-01, -5.28737328e-01,\n",
              "       -4.62159160e-01, -3.95580992e-01, -3.29002823e-01, -2.62424655e-01,\n",
              "       -1.95846486e-01, -1.29268318e-01, -6.26901497e-02,  3.88801867e-03,\n",
              "        7.04661870e-02,  1.37044355e-01,  2.03622524e-01,  2.70200692e-01,\n",
              "        3.36778860e-01,  4.03357029e-01,  4.69935197e-01,  5.36513366e-01,\n",
              "        6.03091534e-01,  6.69669702e-01,  7.36247871e-01,  8.02826039e-01,\n",
              "        8.69404207e-01,  9.35982376e-01,  1.00256054e+00,  1.06913871e+00,\n",
              "        1.13571688e+00,  1.20229505e+00,  1.26887322e+00,  1.33545139e+00,\n",
              "        1.40202955e+00,  1.46860772e+00,  1.53518589e+00,  1.60176406e+00,\n",
              "        1.66834223e+00,  1.73492040e+00,  1.80149856e+00,  1.86807673e+00,\n",
              "        1.93465490e+00,  2.00123307e+00,  2.06781124e+00,  2.13438941e+00,\n",
              "        2.20096757e+00,  2.26754574e+00,  2.33412391e+00,  2.40070208e+00,\n",
              "        2.46728025e+00,  2.53385842e+00,  2.60043658e+00,  2.66701475e+00,\n",
              "        2.73359292e+00,  2.80017109e+00,  2.86674926e+00,  2.93332743e+00,\n",
              "        2.99990560e+00,  3.06648376e+00,  3.13306193e+00,  3.19964010e+00,\n",
              "        3.26621827e+00,  3.33279644e+00,  3.39937461e+00,  3.46595277e+00,\n",
              "        3.53253094e+00,  3.59910911e+00,  3.66568728e+00,  3.73226545e+00,\n",
              "        3.79884362e+00,  3.86542178e+00,  3.93199995e+00,  3.99857812e+00,\n",
              "        4.06515629e+00,  4.13173446e+00,  4.19831263e+00,  4.26489079e+00])"
            ]
          },
          "metadata": {
            "tags": []
          },
          "execution_count": 6
        }
      ]
    },
    {
      "cell_type": "markdown",
      "metadata": {
        "id": "TCgdPQHOEuPQ"
      },
      "source": [
        "True Posterior Distribution\n",
        "\n",
        "$p \\left( \\mu, \\tau \\rvert \\mathcal{D} \\right) = \\mathcal{N}\\left(\\mu \\rvert m, \\left(\\tau \\lambda\\right)^{-1} \\right) \\mathrm{Gam} \\left(\\tau \\rvert a, b_0 \\right)$ with $\\lambda = N + \\lambda_0 $ and $ m = \\frac{N \\bar{x}+ \\lambda_0 \\mu_0}{\\lambda}$ and $a = \\frac{N+1}{2} +a_0$"
      ]
    },
    {
      "cell_type": "code",
      "metadata": {
        "id": "9iqSoifpkqlz",
        "outputId": "28092810-3615-4c39-fa6f-62ecfe8798b9",
        "colab": {
          "base_uri": "https://localhost:8080/",
          "height": 35
        }
      },
      "source": [
        "x_data = np.linspace(-5, 5, 200)\n",
        "\n",
        "mu_data = np.linspace(-4, 4, 100)\n",
        "tau_data = np.linspace(0.1, 4, 100)\n",
        "N = len(x)\n",
        "x_mean = 1/N * np.sum(x_data, axis = 0)\n",
        "lmbda_0 = 1\n",
        "a_0 = 1.99\n",
        "b_0 = 1\n",
        "lmbda = N + lmbda_0\n",
        "\n",
        "# Parameters of the true posterior\n",
        "m = (N * x_mean + lmbda_0 * mu_0) / lmbda\n",
        "a = (N + 1) / 2 + a_0\n",
        "\n",
        "\n",
        "\n",
        "mu_Data, tau_Data = np.meshgrid(mu_data, tau_data)\n",
        "pos = np.dstack((mu_Data, tau_Data))\n",
        "\n",
        "#true_posterior = norm.pdf(pos[:][:][0], loc = m, scale = 1 / np.sqrt(lmbda * pos[:][:][1])) * gamma.pdf(pos[:][:][1], a, scale = 1 / b_0)\n",
        "\n",
        "pos.shape"
      ],
      "execution_count": 73,
      "outputs": [
        {
          "output_type": "execute_result",
          "data": {
            "text/plain": [
              "(100, 100, 2)"
            ]
          },
          "metadata": {
            "tags": []
          },
          "execution_count": 73
        }
      ]
    },
    {
      "cell_type": "code",
      "metadata": {
        "id": "7CMU7rVnG4oJ",
        "outputId": "433886ce-bed0-4c8d-89c4-fa7779284f09",
        "colab": {
          "base_uri": "https://localhost:8080/",
          "height": 35
        }
      },
      "source": [
        "pos[:][:][0].shape"
      ],
      "execution_count": 82,
      "outputs": [
        {
          "output_type": "execute_result",
          "data": {
            "text/plain": [
              "(100, 2)"
            ]
          },
          "metadata": {
            "tags": []
          },
          "execution_count": 82
        }
      ]
    },
    {
      "cell_type": "code",
      "metadata": {
        "id": "HpEa7jAdHc3T"
      },
      "source": [
        ""
      ],
      "execution_count": null,
      "outputs": []
    }
  ]
}