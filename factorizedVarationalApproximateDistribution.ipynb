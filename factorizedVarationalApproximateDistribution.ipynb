{
  "nbformat": 4,
  "nbformat_minor": 0,
  "metadata": {
    "colab": {
      "name": "factorizedVarationalApproximateDistribution.ipynb",
      "provenance": [],
      "authorship_tag": "ABX9TyPt4ySc3pmr2QEZ+Quwi/xw",
      "include_colab_link": true
    },
    "kernelspec": {
      "name": "python3",
      "display_name": "Python 3"
    }
  },
  "cells": [
    {
      "cell_type": "markdown",
      "metadata": {
        "id": "view-in-github",
        "colab_type": "text"
      },
      "source": [
        "<a href=\"https://colab.research.google.com/github/fweberling/Variational_Inference/blob/main/factorizedVarationalApproximateDistribution.ipynb\" target=\"_parent\"><img src=\"https://colab.research.google.com/assets/colab-badge.svg\" alt=\"Open In Colab\"/></a>"
      ]
    },
    {
      "cell_type": "code",
      "metadata": {
        "id": "dO5fHfSNcJ0v"
      },
      "source": [
        "import numpy as np\n",
        "import matplotlib\n",
        "import matplotlib.pyplot as plt\n",
        "from scipy.stats import multivariate_normal\n",
        "from scipy.stats import gamma\n",
        "from scipy.stats import norm\n",
        "from scipy.stats import gamma"
      ],
      "execution_count": 1,
      "outputs": []
    },
    {
      "cell_type": "markdown",
      "metadata": {
        "id": "qVYvtiyMe0cj"
      },
      "source": [
        "Likelihood function "
      ]
    },
    {
      "cell_type": "code",
      "metadata": {
        "id": "khLlhEKHdu-2"
      },
      "source": [
        ""
      ],
      "execution_count": 1,
      "outputs": []
    },
    {
      "cell_type": "markdown",
      "metadata": {
        "id": "PlK3u1NhgY7e"
      },
      "source": [
        "Conjugate prior distributions\n",
        "\n",
        "Normal distribution"
      ]
    },
    {
      "cell_type": "code",
      "metadata": {
        "id": "B21drMJogW_y",
        "outputId": "8244b6ad-6bf5-4973-c278-591b18f4a010",
        "colab": {
          "base_uri": "https://localhost:8080/",
          "height": 283
        }
      },
      "source": [
        "fig, ax = plt.subplots(1, 1)\n",
        "\n",
        "x = np.linspace(norm.ppf(0.01),norm.ppf(0.99999), 100)\n",
        "\n",
        "# Parameters of conjugate prior distribution on mean\n",
        "mu_0 = 1\n",
        "lambda_0 = 1\n",
        "tau = 1\n",
        "\n",
        "conjugate_prior_on_mean = norm.pdf(x, loc = mu_0, scale = 1 / np.sqrt(lambda_0 * tau))\n",
        "\n",
        "ax.plot(x, conjugate_prior_on_mean ,'r-', lw=1, alpha=0.6, label='norm pdf')"
      ],
      "execution_count": 3,
      "outputs": [
        {
          "output_type": "execute_result",
          "data": {
            "text/plain": [
              "[<matplotlib.lines.Line2D at 0x7f55d107fa90>]"
            ]
          },
          "metadata": {
            "tags": []
          },
          "execution_count": 3
        },
        {
          "output_type": "display_data",
          "data": {
            "image/png": "[encoded data removed]",
            "text/plain": [
              "<Figure size 432x288 with 1 Axes>"
            ]
          },
          "metadata": {
            "tags": [],
            "needs_background": "light"
          }
        }
      ]
    },
    {
      "cell_type": "code",
      "metadata": {
        "id": "V9Y0-ZH5iYmS",
        "outputId": "0d05c106-41bf-4cdd-dca6-8e9594cd2e4e",
        "colab": {
          "base_uri": "https://localhost:8080/",
          "height": 35
        }
      },
      "source": [
        "# Parameters of conjugate prior distribution on mean\n",
        "a_0 = 1.99 # shape parameter\n",
        "b_0 = 1 # rate parameter\n",
        "\n",
        "\n",
        "x = np.linspace(gamma.ppf(0.01, a_0),\n",
        "                gamma.ppf(0.99, a_0), 100)\n",
        "\n",
        "conjugate_prior_on_precision = gamma.pdf(x, a_0, scale = 1 / b_0)\n",
        "\n",
        "ax.plot(x, conjugate_prior_on_precision ,'r-', lw=1, alpha=0.6, label='gamma pdf')"
      ],
      "execution_count": 4,
      "outputs": [
        {
          "output_type": "execute_result",
          "data": {
            "text/plain": [
              "[<matplotlib.lines.Line2D at 0x7f55d107f400>]"
            ]
          },
          "metadata": {
            "tags": []
          },
          "execution_count": 4
        }
      ]
    },
    {
      "cell_type": "code",
      "metadata": {
        "id": "AoG-d1tLkl9S"
      },
      "source": [
        ""
      ],
      "execution_count": null,
      "outputs": []
    },
    {
      "cell_type": "code",
      "metadata": {
        "id": "9iqSoifpkqlz"
      },
      "source": [
        ""
      ],
      "execution_count": null,
      "outputs": []
    }
  ]
}